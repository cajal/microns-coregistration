{
 "cells": [
  {
   "cell_type": "code",
   "execution_count": null,
   "id": "9301e9fa",
   "metadata": {},
   "outputs": [],
   "source": [
    "%%capture\n",
    "import datajoint_plus as djp\n",
    "djp.config['database.user'] = 'micronsdashboard'\n",
    "djp.config['database.password'] = 'micronsdashboard#1'\n",
    "\n",
    "from IPython.core.magics.display import Javascript\n",
    "from microns_dashboard_api.apps import GetDashboardUser, UserApp, DataJointLoginApp, DataJointTableApp#, ProtocolManager\n",
    "from microns_dashboard_api.utils import get_user_info_js\n",
    "from microns_dashboard_api.schemas import dashboard as db\n",
    "from microns_coregistration_api.dashboard import cell_typer as ctpr\n",
    "import wridgets as wr\n",
    "import wridgets.app as wra"
   ]
  },
  {
   "cell_type": "code",
   "execution_count": null,
   "id": "4ec659f6",
   "metadata": {
    "scrolled": true
   },
   "outputs": [],
   "source": [
    "Javascript(get_user_info_js) # must be in its own cell"
   ]
  },
  {
   "cell_type": "code",
   "execution_count": null,
   "id": "3a3669af",
   "metadata": {},
   "outputs": [],
   "source": [
    "user = GetDashboardUser() # must be in its own cell\n",
    "user"
   ]
  },
  {
   "cell_type": "code",
   "execution_count": null,
   "id": "c13fa0ce",
   "metadata": {},
   "outputs": [],
   "source": [
    "source = ctpr.database.Protocol.Info * ctpr.database.Submission * ctpr.database.Submission.CellType & 'protocol_name not like \"evaluation%\"'\n",
    "submission_table = DataJointTableApp(\n",
    "    source=source,\n",
    "    attrs=['submission_id', 'user', 'protocol_name', 'segment_id', 'user_choice', 'cell_type_label', 'note', 'timestamp'],\n",
    "    n_rows=50\n",
    ")\n",
    "def update_submission_table(restrict=None, subtract=None):\n",
    "    with table_output:\n",
    "        df = submission_table.to_df(restrict=restrict, subtract=subtract)\n",
    "        df = df.sort_values('timestamp', ascending=False).rename(columns={'protocol_name': 'protocol'}).reset_index(drop=True)\n",
    "        display(df, clear=True)\n",
    "\n",
    "def on_submit(submission_id):\n",
    "    user = (ctpr.database.Submission.CellType() & {'submission_id': submission_id}).fetch1('user')\n",
    "    update_submission_table(restrict={'user': user})\n",
    "\n",
    "table_output = wr.Output()\n",
    "table = wr.Box(children=[table_output], layout={'width': '100%'})"
   ]
  },
  {
   "cell_type": "code",
   "execution_count": null,
   "id": "ebf73a0e",
   "metadata": {},
   "outputs": [],
   "source": [
    "header_output = wr.Output()\n",
    "display(header_output)\n",
    "def on_user_update():\n",
    "    with header_output:\n",
    "        wra.Label(text=f'Welcome, {user.name}.', fontsize=2.5).display()\n",
    "        \n",
    "user_app = UserApp(user_app=globals().get('user'), on_user_update=on_user_update)"
   ]
  },
  {
   "cell_type": "code",
   "execution_count": null,
   "id": "4a9cc5b7",
   "metadata": {},
   "outputs": [],
   "source": [
    "app_output = wr.Output()\n",
    "typer = ctpr.CellTyper(user_app=user_app, on_submit=on_submit)\n",
    "\n",
    "def on_login(**kwargs):\n",
    "    with app_output:\n",
    "        typer.display()\n",
    "        update_submission_table(restrict={'user': user_app.user})\n",
    "        \n",
    "d = DataJointLoginApp(on_login=on_login, hide_on_login=True)\n",
    "d.display()\n",
    "display(app_output)\n",
    "table.display()"
   ]
  }
 ],
 "metadata": {
  "kernelspec": {
   "display_name": "Python 3 (ipykernel)",
   "language": "python",
   "name": "python3"
  },
  "language_info": {
   "codemirror_mode": {
    "name": "ipython",
    "version": 3
   },
   "file_extension": ".py",
   "mimetype": "text/x-python",
   "name": "python",
   "nbconvert_exporter": "python",
   "pygments_lexer": "ipython3",
   "version": "3.9.10"
  }
 },
 "nbformat": 4,
 "nbformat_minor": 5
}
