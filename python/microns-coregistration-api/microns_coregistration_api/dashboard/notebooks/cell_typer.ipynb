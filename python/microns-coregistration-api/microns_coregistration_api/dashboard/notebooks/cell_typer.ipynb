{
 "cells": [
  {
   "cell_type": "code",
   "execution_count": null,
   "metadata": {},
   "outputs": [],
   "source": [
    "%%capture\n",
    "import datajoint as dj\n",
    "dj.config['database.user'] = 'stelios'\n",
    "dj.config['database.password'] = 'stelios#1'\n",
    "\n",
    "from caveclient import CAVEclient\n",
    "client = CAVEclient()\n",
    "client.auth.save_token(token='27dde2c10c1ce7a6d1169fc594addc12', overwrite=True)\n",
    "\n",
    "from microns_coregistration_api.dashboard.cell_type_trainer import CellTypeTrainer\n",
    "from microns_utils.widget_utils import DataJointConnect\n"
   ]
  },
  {
   "cell_type": "code",
   "execution_count": null,
   "metadata": {},
   "outputs": [],
   "source": [
    "%%javascript\n",
    "require.undef('user_widget');\n",
    "\n",
    "    define('user_widget', [\"@jupyter-widgets/base\"], function (widgets) {\n",
    "\n",
    "        \n",
    "        var UserView = widgets.DOMWidgetView.extend({\n",
    "            initialize: function(attributes, options) {\n",
    "\n",
    "            this.response = fetch(\n",
    "                    '/hub/dashboards-api/hub-info/user',\n",
    "                    { \n",
    "                    mode: 'no-cors', \n",
    "                    credentials: 'same-origin',\n",
    "                    headers: new Headers({'Access-Control-Allow-Origin':'*'}) \n",
    "                });\n",
    "                this.response.then( response => {\n",
    "                    this.result = response.json();\n",
    "                    this.result.then( json => {\n",
    "                        this.model.set('value', json);\n",
    "                        this.model.set('name', json.name);\n",
    "                        this.model.save_changes();\n",
    "                    });\n",
    "\n",
    "                });\n",
    "            \n",
    "            },\n",
    "            \n",
    "            render: async function () {\n",
    "                await this.response;\n",
    "                await this.result;\n",
    "                var json = this.model.get('value');\n",
    "                var text = 'No user';\n",
    "                if (json.hasOwnProperty('name')) {\n",
    "                    text = 'Rendered by Javascript: '+json['name'];\n",
    "                }\n",
    "                this.el.appendChild(document.createTextNode(text));\n",
    "\n",
    "            },\n",
    "        \n",
    "        });\n",
    "\n",
    "        return {\n",
    "            UserView: UserView\n",
    "        };\n",
    "    });"
   ]
  },
  {
   "cell_type": "code",
   "execution_count": null,
   "metadata": {},
   "outputs": [],
   "source": [
    "from traitlets import Unicode, Dict, Unicode\n",
    "from ipywidgets import DOMWidget, register\n",
    "from ipywidgets import link\n",
    "\n",
    "@register\n",
    "class DashboardUser(DOMWidget):\n",
    "    \"\"\"\n",
    "    Get JupyterHub user info\n",
    "    https://gist.github.com/danlester/ac1d5f29358ce1950482f8e7d4301f86\n",
    "    \"\"\"\n",
    "    _view_name = Unicode('UserView').tag(sync=True)\n",
    "    _view_module = Unicode('user_widget').tag(sync=True)\n",
    "    _view_module_version = Unicode('0.1.0').tag(sync=True)\n",
    "\n",
    "    value = Dict({}, help=\"User info\").tag(sync=True)\n",
    "    name = Unicode('').tag(sync=True)"
   ]
  },
  {
   "cell_type": "code",
   "execution_count": null,
   "metadata": {},
   "outputs": [
    {
     "ename": "",
     "evalue": "",
     "output_type": "error",
     "traceback": [
      "\u001b[1;31mRunning cells with 'Python 3.8.13 64-bit' requires ipykernel package.\n",
      "Run the following command to install 'ipykernel' into the Python environment. \n",
      "Command: '/usr/bin/python3.8 -m pip install ipykernel -U --user --force-reinstall'"
     ]
    }
   ],
   "source": [
    "d = DataJointConnect(disable_after_submitting=True, action_on_submit=CellTypeTrainer, kwargs_for_action_on_submit=dict(display=True, user_info=user.value))"
   ]
  }
 ],
 "metadata": {
  "kernelspec": {
   "display_name": "Python 3.8.13 64-bit",
   "language": "python",
   "name": "python3"
  },
  "language_info": {
   "name": "python",
   "version": "3.8.13"
  },
  "orig_nbformat": 4,
  "vscode": {
   "interpreter": {
    "hash": "df0893f56f349688326838aaeea0de204df53a132722cbd565e54b24a8fec5f6"
   }
  }
 },
 "nbformat": 4,
 "nbformat_minor": 2
}
