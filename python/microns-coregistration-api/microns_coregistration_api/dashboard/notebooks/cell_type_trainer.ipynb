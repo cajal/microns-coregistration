{
 "cells": [
  {
   "cell_type": "code",
   "execution_count": null,
   "metadata": {
    "vscode": {
     "languageId": "javascript"
    }
   },
   "outputs": [
    {
     "ename": "",
     "evalue": "",
     "output_type": "error",
     "traceback": [
      "\u001b[1;31mRunning cells with 'Python 3.8.13 64-bit' requires ipykernel package.\n",
      "Run the following command to install 'ipykernel' into the Python environment. \n",
      "Command: '/usr/bin/python3.8 -m pip install ipykernel -U --user --force-reinstall'"
     ]
    }
   ],
   "source": [
    "%%javascript\n",
    "\n",
    "require.undef('user_widget');\n",
    "\n",
    "define('user_widget', [\"@jupyter-widgets/base\"], function (widgets) {\n",
    "\n",
    "    \n",
    "    var UserView = widgets.DOMWidgetView.extend({\n",
    "        initialize: function(attributes, options) {\n",
    "\n",
    "           this.response = fetch(\n",
    "                '/hub/dashboards-api/hub-info/user',\n",
    "                 { \n",
    "                 mode: 'no-cors', \n",
    "                 credentials: 'same-origin',\n",
    "                 headers: new Headers({'Access-Control-Allow-Origin':'*'}) \n",
    "            });\n",
    "            this.response.then( response => {\n",
    "                this.result = response.json();\n",
    "                this.result.then( json => {\n",
    "                    this.model.set('value', json);\n",
    "                    this.model.set('name', json.name);\n",
    "                    this.model.save_changes();\n",
    "                });\n",
    "\n",
    "            });\n",
    "        \n",
    "        },\n",
    "        \n",
    "        render: async function () {\n",
    "            await this.response;\n",
    "            await this.result;\n",
    "            var json = this.model.get('value');\n",
    "            var text = 'No user';\n",
    "            if (json.hasOwnProperty('name')) {\n",
    "                text = 'Welcome, '+json['name']+'.';\n",
    "            }\n",
    "            this.el.appendChild(document.createTextNode(text));\n",
    "\n",
    "        },\n",
    "       \n",
    "    });\n",
    "\n",
    "    return {\n",
    "        UserView: UserView\n",
    "    };\n",
    "});"
   ]
  },
  {
   "cell_type": "code",
   "execution_count": null,
   "metadata": {},
   "outputs": [],
   "source": [
    "from microns_utils.dashboard_utils import DashboardUser\n",
    "\n",
    "user = DashboardUser()\n",
    "user"
   ]
  }
 ],
 "metadata": {
  "kernelspec": {
   "display_name": "Python 3.8.13 64-bit",
   "language": "python",
   "name": "python3"
  },
  "language_info": {
   "name": "python",
   "version": "3.8.13"
  },
  "orig_nbformat": 4,
  "vscode": {
   "interpreter": {
    "hash": "df0893f56f349688326838aaeea0de204df53a132722cbd565e54b24a8fec5f6"
   }
  }
 },
 "nbformat": 4,
 "nbformat_minor": 2
}
