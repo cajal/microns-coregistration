{
 "cells": [
  {
   "cell_type": "code",
   "execution_count": null,
   "metadata": {},
   "outputs": [],
   "source": [
    "%%capture\n",
    "import datajoint as dj\n",
    "dj.config['database.user'] = 'stelios'\n",
    "dj.config['database.password'] = 'stelios#1'\n",
    "\n",
    "from caveclient import CAVEclient\n",
    "client = CAVEclient()\n",
    "client.auth.save_token(token='27dde2c10c1ce7a6d1169fc594addc12', overwrite=True)\n",
    "\n",
    "from microns_coregistration_api.dashboard.cell_type_trainer import CellTypeTrainer\n",
    "from microns_utils.widget_utils import DataJointConnect\n"
   ]
  },
  {
   "cell_type": "code",
   "execution_count": null,
   "metadata": {},
   "outputs": [],
   "source": [
    "from microns_utils.dashboard_utils import DashboardUser\n",
    "user = DashboardUser()\n",
    "user"
   ]
  },
  {
   "cell_type": "code",
   "execution_count": null,
   "metadata": {},
   "outputs": [
    {
     "ename": "",
     "evalue": "",
     "output_type": "error",
     "traceback": [
      "\u001b[1;31mRunning cells with 'Python 3.8.13 64-bit' requires ipykernel package.\n",
      "Run the following command to install 'ipykernel' into the Python environment. \n",
      "Command: '/usr/bin/python3.8 -m pip install ipykernel -U --user --force-reinstall'"
     ]
    }
   ],
   "source": [
    "d = DataJointConnect(disable_after_submitting=True, action_on_submit=CellTypeTrainer, kwargs_for_action_on_submit=dict(display=True, user_info=user.value))"
   ]
  }
 ],
 "metadata": {
  "kernelspec": {
   "display_name": "Python 3.8.13 64-bit",
   "language": "python",
   "name": "python3"
  },
  "language_info": {
   "name": "python",
   "version": "3.8.13"
  },
  "orig_nbformat": 4,
  "vscode": {
   "interpreter": {
    "hash": "df0893f56f349688326838aaeea0de204df53a132722cbd565e54b24a8fec5f6"
   }
  }
 },
 "nbformat": 4,
 "nbformat_minor": 2
}
